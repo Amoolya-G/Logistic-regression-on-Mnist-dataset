{
  "nbformat": 4,
  "nbformat_minor": 5,
  "metadata": {
    "kernelspec": {
      "display_name": "Python 3",
      "language": "python",
      "name": "python3"
    },
    "language_info": {
      "codemirror_mode": {
        "name": "ipython",
        "version": 3
      },
      "file_extension": ".py",
      "mimetype": "text/x-python",
      "name": "python",
      "nbconvert_exporter": "python",
      "pygments_lexer": "ipython3",
      "version": "3.7.6"
    },
    "colab": {
      "name": "Logistic Regression on mnist dataset",
      "provenance": []
    }
  },
  "cells": [
    {
      "cell_type": "code",
      "metadata": {
        "id": "occasional-yellow"
      },
      "source": [
        "#Logistic Regression"
      ],
      "id": "occasional-yellow",
      "execution_count": null,
      "outputs": []
    },
    {
      "cell_type": "code",
      "metadata": {
        "id": "tight-bookmark"
      },
      "source": [
        "#Importing Libraries\n",
        "import numpy as np\n",
        "import pandas as pd\n",
        "import matplotlib.pyplot as plt\n",
        "import seaborn as sn"
      ],
      "id": "tight-bookmark",
      "execution_count": null,
      "outputs": []
    },
    {
      "cell_type": "code",
      "metadata": {
        "id": "modern-webmaster"
      },
      "source": [
        "#Data\n",
        "#Each image is 28 pixels in height and 28 pixels in width, for a total of 784 pixels in total\n",
        "\n",
        "df_train=pd.read_csv('mnist_train.csv')\n",
        "df_test =pd.read_csv('mnist_test.csv')"
      ],
      "id": "modern-webmaster",
      "execution_count": null,
      "outputs": []
    },
    {
      "cell_type": "code",
      "metadata": {
        "id": "major-magic"
      },
      "source": [
        "#Data Info\n",
        "print(df_train.shape)\n",
        "print(df_test.shape)"
      ],
      "id": "major-magic",
      "execution_count": null,
      "outputs": []
    },
    {
      "cell_type": "code",
      "metadata": {
        "id": "confirmed-trick"
      },
      "source": [
        "#Disp Data\n",
        "df_train.head()"
      ],
      "id": "confirmed-trick",
      "execution_count": null,
      "outputs": []
    },
    {
      "cell_type": "code",
      "metadata": {
        "id": "fixed-workplace"
      },
      "source": [
        "df_train.describe()"
      ],
      "id": "fixed-workplace",
      "execution_count": null,
      "outputs": []
    },
    {
      "cell_type": "code",
      "metadata": {
        "id": "looking-desperate"
      },
      "source": [
        "#Disp Test Data\n",
        "df_test.head()"
      ],
      "id": "looking-desperate",
      "execution_count": null,
      "outputs": []
    },
    {
      "cell_type": "code",
      "metadata": {
        "id": "prostate-electron"
      },
      "source": [
        "#EDA\n",
        "#Visualize Data = #2 (3rd Record)\n",
        "img = df_train.iloc[2,1:].to_numpy()\n",
        "img = img.reshape((28,28))\n",
        "plt.imshow(img,cmap='gray');\n",
        "plt.axis(\"off\");\n",
        "plt.title('DIGIT : '+str( df_train.iloc[2,0]), color=\"green\");"
      ],
      "id": "prostate-electron",
      "execution_count": null,
      "outputs": []
    },
    {
      "cell_type": "code",
      "metadata": {
        "id": "commercial-analysis"
      },
      "source": [
        "#DV , IDV \n",
        "#Data Split\n",
        "\n",
        "x_train = df_train.drop([\"label\"],axis=1)\n",
        "y_train = df_train.label\n",
        "\n",
        "x_test = df_test.drop([\"label\"],axis=1)\n",
        "y_test = df_test.label"
      ],
      "id": "commercial-analysis",
      "execution_count": null,
      "outputs": []
    },
    {
      "cell_type": "code",
      "metadata": {
        "id": "innovative-breakfast"
      },
      "source": [
        "#Scale Data\n",
        "from sklearn.preprocessing import StandardScaler\n",
        "\n",
        "sc = StandardScaler()\n",
        "x_train = sc.fit_transform(x_train)\n",
        "x_test  = sc.transform(x_test)"
      ],
      "id": "innovative-breakfast",
      "execution_count": null,
      "outputs": []
    },
    {
      "cell_type": "code",
      "metadata": {
        "id": "acoustic-consultancy"
      },
      "source": [
        "#Logistic Regression\n",
        "from sklearn.linear_model import LogisticRegression\n",
        "\n",
        "# Parameters set to their defaults\n",
        "lgr1 = LogisticRegression(max_iter=2000)\n",
        "\n",
        "\n",
        "#Fit for train data\n",
        "lgr1.fit(x_train, y_train)"
      ],
      "id": "acoustic-consultancy",
      "execution_count": null,
      "outputs": []
    },
    {
      "cell_type": "code",
      "metadata": {
        "id": "celtic-sauce"
      },
      "source": [
        "#Prediction using various models\n",
        "\n",
        "y_pred_lg=lgr1.predict(x_test)\n",
        "\n"
      ],
      "id": "celtic-sauce",
      "execution_count": null,
      "outputs": []
    },
    {
      "cell_type": "code",
      "metadata": {
        "id": "everyday-survivor"
      },
      "source": [
        "y_pred = y_pred_lg\n",
        "model  = lgr1"
      ],
      "id": "everyday-survivor",
      "execution_count": null,
      "outputs": []
    },
    {
      "cell_type": "code",
      "metadata": {
        "id": "peripheral-packing"
      },
      "source": [
        "score_train = model.score(x_train, y_train)\n",
        "score_test  = model.score(x_test, y_test)"
      ],
      "id": "peripheral-packing",
      "execution_count": null,
      "outputs": []
    },
    {
      "cell_type": "code",
      "metadata": {
        "id": "square-leather"
      },
      "source": [
        "print('Accuracy for Train: ', score_train)\n",
        "print('Accuracy for Test: ', score_test)"
      ],
      "id": "square-leather",
      "execution_count": null,
      "outputs": []
    },
    {
      "cell_type": "code",
      "metadata": {
        "id": "atmospheric-price"
      },
      "source": [
        "#Metrics\n",
        "from sklearn import metrics\n",
        "\n",
        "#Accuracy ->correct predictions / total number of data points\n",
        "#score_train = model.score(x_train, y_train)\n",
        "#score_test  = model.score(x_test, y_test)\n",
        "\n",
        "print('Accuracy for Train: ', score_train)\n",
        "print('Accuracy for Test: ', score_test)\n",
        "\n",
        "#Confusion Matrix\n",
        "cm = metrics.confusion_matrix(y_test, y_pred)\n",
        "print(cm)\n",
        "\n",
        "plt.figure(figsize=(9,9))\n",
        "sn.heatmap(cm, annot=True, fmt=\".3f\", linewidths=.5, square = True, cmap = 'Blues_r');\n",
        "plt.ylabel('Actual label');\n",
        "plt.xlabel('Predicted label');\n",
        "all_sample_title = 'Accuracy Score: {0}'.format(score_test)\n",
        "plt.title(all_sample_title, size = 15);\n",
        "\n",
        "FP = cm.sum(axis=0) - np.diag(cm)  \n",
        "FN = cm.sum(axis=1) - np.diag(cm)\n",
        "TP = np.diag(cm)\n",
        "TN = cm.sum() - (FP + FN + TP)\n",
        "\n",
        "# Sensitivity, hit rate, recall, or true positive rate\n",
        "TPR = TP/(TP+FN)\n",
        "# Specificity or true negative rate\n",
        "TNR = TN/(TN+FP) \n",
        "# Precision or positive predictive value\n",
        "PPV = TP/(TP+FP)\n",
        "# Negative predictive value\n",
        "NPV = TN/(TN+FN)\n",
        "# Fall out or false positive rate\n",
        "FPR = FP/(FP+TN)\n",
        "# False negative rate\n",
        "FNR = FN/(TP+FN)\n",
        "# False discovery rate\n",
        "FDR = FP/(TP+FP)\n",
        "\n",
        "print('Correct Classification :', TP.sum())\n",
        "print('Mis- Classifications :', cm.sum() - TP.sum())\n"
      ],
      "id": "atmospheric-price",
      "execution_count": null,
      "outputs": []
    },
    {
      "cell_type": "code",
      "metadata": {
        "id": "interstate-fleece"
      },
      "source": [
        "#Misclassification Data\n",
        "   \n",
        "mis_index=[]\n",
        "\n",
        "for i in range(y_test.size):\n",
        "    if y_pred[i] != y_test[i]:\n",
        "        mis_index.append(i)\n",
        "print(len(mis_index))"
      ],
      "id": "interstate-fleece",
      "execution_count": null,
      "outputs": []
    },
    {
      "cell_type": "code",
      "metadata": {
        "id": "preceding-basic"
      },
      "source": [
        "#Visualize Predicted Data\n",
        "\n",
        "plt.figure(figsize=(20,4))\n",
        "plt.axis(\"off\");\n",
        "\n",
        "i=mis_index[20]\n",
        "\n",
        "img=df_test.iloc[i,1:].to_numpy()\n",
        "img=img.reshape((28,28))\n",
        "plt.imshow(img,cmap='gray');\n",
        "plt.title('Actual : '+str( y_test[i])+'    Predicted : '+str( y_pred[i]), color=\"blue\");"
      ],
      "id": "preceding-basic",
      "execution_count": null,
      "outputs": []
    },
    {
      "cell_type": "code",
      "metadata": {
        "id": "stable-shannon"
      },
      "source": [
        "#Prediction\n",
        "from PIL import Image,ImageOps\n",
        "from numpy import asarray \n",
        "\n",
        "file='8'\n",
        "im  = Image.open(file+'.png') \n",
        "im=ImageOps.grayscale(im)\n",
        "nim = im.resize((28, 28))\n",
        "imar = asarray(nim)\n",
        "imar=imar.reshape(1,-1)\n",
        "print(imar.shape)"
      ],
      "id": "stable-shannon",
      "execution_count": null,
      "outputs": []
    },
    {
      "cell_type": "code",
      "metadata": {
        "id": "copyrighted-factor"
      },
      "source": [
        "im"
      ],
      "id": "copyrighted-factor",
      "execution_count": null,
      "outputs": []
    },
    {
      "cell_type": "code",
      "metadata": {
        "id": "tracked-portugal"
      },
      "source": [
        "nim"
      ],
      "id": "tracked-portugal",
      "execution_count": null,
      "outputs": []
    },
    {
      "cell_type": "code",
      "metadata": {
        "id": "silver-market"
      },
      "source": [
        "#Scale\n",
        "x_new  = sc.transform(imar)\n",
        "y_new = int(file) \n",
        "\n",
        "#Predict\n",
        "y_new_pred=lgr1.predict(x_new)\n",
        "\n",
        "print(\"Actual :\", y_new)\n",
        "print(\"Predicted :\", y_new_pred)"
      ],
      "id": "silver-market",
      "execution_count": null,
      "outputs": []
    },
    {
      "cell_type": "code",
      "metadata": {
        "id": "turned-borough"
      },
      "source": [
        "#EDA\n",
        "#Visualize the live Data \n",
        "imgn = imar.reshape((28,28))\n",
        "plt.imshow(imgn,cmap='gray');\n",
        "plt.axis(\"off\");\n",
        "plt.title('Actual DIGIT : '+ str( y_new) +'   Predicted : '+str(y_new_pred));"
      ],
      "id": "turned-borough",
      "execution_count": null,
      "outputs": []
    },
    {
      "cell_type": "code",
      "metadata": {
        "id": "received-latter"
      },
      "source": [
        "index_8=[]\n",
        "\n",
        "for i in range(y_test.size):\n",
        "    if y_pred[i] == y_test[i] & y_test[i]==8:\n",
        "        index_8.append(i)\n",
        "print(len(index_8))"
      ],
      "id": "received-latter",
      "execution_count": null,
      "outputs": []
    },
    {
      "cell_type": "code",
      "metadata": {
        "id": "disabled-testimony"
      },
      "source": [
        "#Visualize Predicted Data -3\n",
        "\n",
        "plt.figure(figsize=(20,4))\n",
        "plt.axis(\"off\");\n",
        "\n",
        "i=index_8[1]\n",
        "\n",
        "img=df_test.iloc[i,1:].to_numpy()\n",
        "img=img.reshape((28,28))\n",
        "plt.imshow(img,cmap='gray');\n",
        "plt.title('Actual : '+str( y_test[i])+'    Predicted : '+str( y_pred[i]), color=\"blue\");"
      ],
      "id": "disabled-testimony",
      "execution_count": null,
      "outputs": []
    },
    {
      "cell_type": "code",
      "metadata": {
        "id": "vanilla-operations"
      },
      "source": [
        ""
      ],
      "id": "vanilla-operations",
      "execution_count": null,
      "outputs": []
    }
  ]
}